{
 "cells": [
  {
   "cell_type": "markdown",
   "metadata": {
    "id": "Lget6YStkk-N"
   },
   "source": [
    "## ShopAssist AI 2.0\n",
    "\n",
    "Documentation: [Blog](https://www.datacamp.com/tutorial/open-ai-function-calling-tutorial)\n",
    "[OpenAI](https://platform.openai.com/docs/guides/function-calling?api-mode=chat)\n",
    "\n",
    "In this sample solution, we have provided a method to combine function calling API with the ShopAssist AI 2.0's system design to make it more seamless, and with less lines of code!\n",
    "\n",
    "This solution, redefines our system design, and refines the overall conversation flow. Also, the output of the layers are now more consistent and therefore, require less manipulation for a seamless conversation.\n",
    "\n",
    "Note that this is an outline solution, and hence contains primarily the function calling API prototype only. You are suggested to modify this further, and add additional layers (moderation, etc.) to modify the output as well"
   ]
  },
  {
   "cell_type": "raw",
   "metadata": {
    "colab": {
     "base_uri": "https://localhost:8080/"
    },
    "id": "Y4ukINBvyvQ9",
    "outputId": "de69957a-af32-4d5b-c82c-d1b500376e54"
   },
   "source": [
    "#Install openai\n",
    "!pip install openai"
   ]
  },
  {
   "cell_type": "code",
   "execution_count": 8,
   "metadata": {
    "id": "SJJVMuodyb2u"
   },
   "outputs": [],
   "source": [
    "## Import the necessary libraries for building the project\n",
    "import os,json,ast\n",
    "import openai\n",
    "import pandas as pd\n",
    "\n",
    "## Add your OPENAI API KEY\n",
    "from config import api_key\n",
    "openai.api_key = api_key"
   ]
  },
  {
   "cell_type": "code",
   "execution_count": 9,
   "metadata": {
    "id": "GesnkvbCzJLS"
   },
   "outputs": [],
   "source": [
    "## Function Description for the Function Calling API\n",
    "\n",
    "function_descriptions = [\n",
    "            {\n",
    "                \"name\": \"compare_laptops_with_user\",\n",
    "                \"description\": \"Get the top 3 laptops from the catalogue, that best matches what the user is asking based on 'GPU intensity','Display quality','Portability','Multitasking','Processing speed' & 'Budget\",\n",
    "                \"parameters\": {\n",
    "                    \"type\": \"object\",\n",
    "                    \"properties\": {\n",
    "                        \"gpu intensity\": {\n",
    "                            \"type\": \"string\",\n",
    "                            \"description\": \"The requirement of the user in GPU capacity classfied as low, medium or high\" ,\n",
    "                        },\n",
    "                        \"display quality\": {\n",
    "                            \"type\": \"string\",\n",
    "                            \"description\": \"The requirement of the user for Laptop's Display Quality & capacity classfied as low, medium or high\" ,\n",
    "                        },\n",
    "                        \"portability\": {\n",
    "                            \"type\": \"string\",\n",
    "                            \"description\": \"The requirement of the user for Laptop's portability classfied as low, medium or high\" ,\n",
    "                        },\n",
    "                        \"multitasking\": {\n",
    "                            \"type\": \"string\",\n",
    "                            \"description\": \"The requirement of the user for Laptop's Multitasking classfied as low, medium or high\" ,\n",
    "                        },\n",
    "                        \"processing speed\": {\n",
    "                            \"type\": \"string\",\n",
    "                            \"description\": \"The requirement of the user for Laptop's Processing speed classfied as low, medium or high\" ,\n",
    "                        },\n",
    "                        \"budget\": {\n",
    "                            \"type\": \"integer\",\n",
    "                            \"description\": \"The maximum budget of the user\" ,\n",
    "                        },\n",
    "\n",
    "                    },\n",
    "                    \"required\": [\"GPU intensity\",\"Display quality\",\"Portability\",\"Multitasking\",\"Processing speed\",\"Budget\"],\n",
    "                },\n",
    "            }\n",
    "        ]"
   ]
  },
  {
   "cell_type": "code",
   "execution_count": 10,
   "metadata": {
    "id": "9ZtYd9Sj6PJP"
   },
   "outputs": [],
   "source": [
    "def initialize_conversation():\n",
    "    delimiter = \"####\"\n",
    "\n",
    "    system_message = f\"\"\"\n",
    "    You are an intelligent laptop gadget expert and your goal is to find the best laptop for a user.\n",
    "    You are trying to understand the user's requirement for these laptop's features: ('gpu intensity','display quality','portability','multitasking','processing speed','budget')\n",
    "    You need to ask relevant questions and understand the user need for each feature by analysing the user's responses.\n",
    "    After understanding their requirements, you'll use a function call to suggest the top 3 laptops with their respective user match score.\n",
    "    Recommend these laptops and answer any user's query about them.\n",
    "\n",
    "    {delimiter} Here are certain guidelines that you need to follow:\n",
    "    Don't ask questions about more than 2 features at a time.\n",
    "    If the user's budget is less than says less than 25000 INR, please mention that there are no laptops in that range.\n",
    "    Recommend the top3 laptops in the following format:\n",
    "    Start with a brief summary of each laptop in the following format, in decreasing order of price of laptops:\n",
    "    1. <Laptop Name> : <Major specifications of the laptop>, <Price in Rs>\n",
    "    2. <Laptop Name> : <Major specifications of the laptop>, <Price in Rs>\n",
    "    3. <Laptop Name> : <Major specifications of the laptop>, <Price in Rs>\n",
    "    {delimiter}\n",
    "\n",
    "    {delimiter}To find the top3 laptops, you need to have the following chain of thoughts:\n",
    "    Thought 1: Ask one question to understand the user's profile and requirements. \\n\n",
    "    If their primary use for the laptop is unclear. Ask another question to comprehend their needs.\n",
    "    Answer \"Yes\" or \"No\" to indicate if you understand the requirements. \\n\n",
    "    If yes, proceed to the next step. Otherwise, rephrase the question to capture their profile. \\n\n",
    "\n",
    "    Thought 2: Now, you are trying to understand the requirements for other features which you couldn't in the previous step.\n",
    "    Ask questions to strengthen your understanding of the user's profile.\n",
    "    Don't ask questions about more than 2 features at a time.\n",
    "    Answer \"Yes\" or \"No\" to indicate if you understood all the needs of the features and are confident about the same.\n",
    "    If yes, move to the next Thought. If no, ask question on the features whose needs you are unsure of. \\n\n",
    "    It is a good practice to ask question with a sound logic as opposed to directly citing the feature you want to understand the need for.{delimiter}\n",
    "    {delimiter}\n",
    "\n",
    "    {delimiter} Here is a sample conversation between the user and assistant:\n",
    "    Assistant: \"Hello! I'm here to help you find the perfect laptop that suits your needs. Could you please share your requirements?\"\n",
    "    User: \"Hi, I am an editor.\"\n",
    "    Assistant: \"Great! As an editor, you likely require a laptop that can handle demanding tasks. Hence, the laptop should have high multitasking capability. You would also need a high end display for better visuals and editing. May I know what kind of work do you primarily focus on? Are you more involved in video editing, photo editing, or both? Understanding the specific type of editing work will help me tailor my recommendations accordingly. Let me know if my understanding is correct until now.\"\n",
    "    User: \"I primarily work with After Effects.\"\n",
    "    Assistant: \"Thank you for providing that information. Working with After Effects involves working with graphics, animations, and rendering, which will require high GPU. Do you work with high-resolution media files, such as 4K videos or RAW photos? Understanding your file sizes will help determine the storage capacity and processing power needed.\"\n",
    "    User: \"Yes, sometimes I work with 4K videos as well.\"\n",
    "    Assistant: \"Thank you for the information. Processing 4K vidoes will require a good processor and high GPU. I think we have already determined earlier that you need a high GPU. To ensure I have a complete understanding of your needs, I have one more question: Are you frequently on the go and require a laptop that is lightweight and easy to carry, or do you primarily work from a stationary location?\"\n",
    "    User: \"Yes, sometimes I travel but do not carry my laptop.\"\n",
    "    Assistant:\"Could you kindly let me know your budget for the laptop? This will help me find options that fit within your price range while meeting the specified requirements.\"\n",
    "    User: \"my max budget is 1.5lakh inr\"\n",
    "    {delimiter}\n",
    "\n",
    "\n",
    "    Start with a short welcome message and encourage the user to share their requirements.\n",
    "    \"\"\"\n",
    "    conversation = [{\"role\": \"system\", \"content\": system_message }]\n",
    "    return conversation"
   ]
  },
  {
   "cell_type": "code",
   "execution_count": 11,
   "metadata": {
    "id": "ZFVCMMSz6GKj"
   },
   "outputs": [],
   "source": [
    "def get_chat_model_completions(messages):\n",
    "    response = openai.chat.completions.create(\n",
    "        model=\"gpt-4-0613\",\n",
    "        messages=messages,\n",
    "        temperature=0, # this is the degree of randomness of the model's output\n",
    "        max_tokens = 500,\n",
    "\n",
    "        functions=function_descriptions,\n",
    "        function_call=\"auto\",\n",
    "    )\n",
    "    return response.choices[0].message"
   ]
  },
  {
   "cell_type": "code",
   "execution_count": 12,
   "metadata": {
    "id": "W13nBUM_nv-M"
   },
   "outputs": [],
   "source": [
    "import pandas as pd\n",
    "import ast\n",
    "import re\n",
    "\n",
    "def extract_dictionary_from_string(string):\n",
    "    regex_pattern = r\"\\{[^{}]+\\}\"\n",
    "\n",
    "    dictionary_matches = re.findall(regex_pattern, string)\n",
    "\n",
    "    # Extract the first dictionary match and convert it to lowercase\n",
    "    if dictionary_matches:\n",
    "        dictionary_string = dictionary_matches[0]\n",
    "        dictionary_string = dictionary_string.lower()\n",
    "\n",
    "        # Convert the dictionary string to a dictionary object using ast.literal_eval()\n",
    "        dictionary = ast.literal_eval(dictionary_string)\n",
    "    return dictionary\n",
    "\n",
    "def compare_laptops_with_user(user_req_string):\n",
    "  budget = user_req_string.get('budget', '0')\n",
    "  laptop_df= pd.read_csv('updated_laptop.csv')\n",
    "  filtered_laptops = laptop_df.copy()\n",
    "  filtered_laptops['Price'] = filtered_laptops['Price'].str.replace(',','').astype(int)\n",
    "  filtered_laptops = filtered_laptops[filtered_laptops['Price'] <= budget].copy()\n",
    "\n",
    "  mappings = {\n",
    "          'low': 0,\n",
    "          'medium': 1,\n",
    "          'high': 2\n",
    "      }\n",
    "  # Create 'Score' column in the DataFrame and initialize to 0\n",
    "  filtered_laptops['Score'] = 0\n",
    "  for index, row in filtered_laptops.iterrows():\n",
    "      user_product_match_str = row['laptop_feature']\n",
    "      laptop_values = extract_dictionary_from_string(user_product_match_str)\n",
    "      score = 0\n",
    "\n",
    "      for key, user_value in user_req_string.items():\n",
    "        if key.lower() == 'budget':\n",
    "            continue  # Skip budget comparison\n",
    "        laptop_value = laptop_values.get(key, None)\n",
    "        laptop_mapping = mappings.get(laptop_value.lower(), -1)\n",
    "        user_mapping = mappings.get(user_value.lower(), -1)\n",
    "        if laptop_mapping >= user_mapping:\n",
    "          ### If the laptop value is greater than or equal to the user value the score is incremented by 1\n",
    "          score += 1\n",
    "\n",
    "      filtered_laptops.loc[index, 'Score'] = score\n",
    "\n",
    "  # Sort the laptops by score in descending order and return the top 5 products\n",
    "  top_laptops = filtered_laptops.drop('laptop_feature', axis=1)\n",
    "  top_laptops = top_laptops.sort_values('Score', ascending=False).head(3)\n",
    "\n",
    "  return top_laptops.to_json(orient='records')\n",
    "\n",
    "def recommendation_validation(laptop_recommendation):\n",
    "\n",
    "    data = json.loads(laptop_recommendation)\n",
    "    data1 = []\n",
    "    for i in range(len(data)):\n",
    "      if data[i]['Score'] > 2:\n",
    "        data1.append(data[i])\n",
    "\n",
    "    return json.dumps(data1)"
   ]
  },
  {
   "cell_type": "raw",
   "metadata": {},
   "source": [
    "get_chat_model_completions([{\"role\": \"user\", \"content\": \"Hi How are you?\"}]).function_call"
   ]
  },
  {
   "cell_type": "code",
   "execution_count": 6,
   "metadata": {
    "id": "XZVtOt4Cmuuw"
   },
   "outputs": [],
   "source": [
    "def dialogue_mgmt_system():\n",
    "    conversation = initialize_conversation()\n",
    "    introduction = get_chat_model_completions(conversation).content\n",
    "    print(introduction + '\\n')\n",
    "    user_input = \"\"\n",
    "    while(user_input != \"exit\"):\n",
    "      user_input = input(\"\")\n",
    "      conversation.append({\"role\": \"user\", \"content\": user_input})\n",
    "      # Step 1: Pass the user input to GPT\n",
    "      response_assistant = get_chat_model_completions(conversation)\n",
    "      if response_assistant.function_call:\n",
    "        print(\"\\nThank you for providing all the information. Kindly wait, while I fetch the products\\n\")\n",
    "        # Step 2: Extract top3 laptops by calling the external function\n",
    "        function_name = response_assistant.function_call.name\n",
    "        function_args = json.loads(response_assistant.function_call.arguments)\n",
    "        print(f\"User requirement: {function_args}\")\n",
    "        top_3_laptops = compare_laptops_with_user(function_args)\n",
    "        function_response = recommendation_validation(top_3_laptops)\n",
    "        if len(function_response) == 0:\n",
    "          print(\"Sorry, we do not have laptops that match your requirements. Connecting you to a human expert.\")\n",
    "          break\n",
    "        # Step 3: send the info on the function call and function response to GPT\n",
    "        conversation.append(response_assistant)\n",
    "        conversation.append(\n",
    "            {\n",
    "                \"role\": \"function\",\n",
    "                \"name\": function_name,\n",
    "                \"content\": function_response,\n",
    "            }\n",
    "        )\n",
    "        recommendation = get_chat_model_completions(conversation)\n",
    "        conversation.append({\"role\": \"assistant\", \"content\": recommendation.content})\n",
    "        print(\"\\n\" +recommendation.content + \"\\n\")\n",
    "      else:\n",
    "        conversation.append({\"role\": \"assistant\", \"content\": response_assistant.content})\n",
    "        print(\"\\n\" +  response_assistant.content + \"\\n\")\n"
   ]
  },
  {
   "cell_type": "code",
   "execution_count": null,
   "metadata": {},
   "outputs": [],
   "source": [
    "dialogue_mgmt_system()"
   ]
  },
  {
   "cell_type": "code",
   "execution_count": 9,
   "metadata": {},
   "outputs": [
    {
     "name": "stdout",
     "output_type": "stream",
     "text": [
      "Assistant: \"Hello! I'm here to help you find the perfect laptop that suits your needs. Could you please share your requirements?\"\n",
      "\n"
     ]
    },
    {
     "name": "stdin",
     "output_type": "stream",
     "text": [
      " i am a coder, need a laptop for AI and ML model training\n"
     ]
    },
    {
     "name": "stdout",
     "output_type": "stream",
     "text": [
      "\n",
      "Great! As a coder working on AI and ML model training, you would require a laptop with high processing speed and GPU intensity to handle complex computations. Also, multitasking capability would be important as you might be running multiple programs simultaneously. \n",
      "\n",
      "Could you please tell me if you need a high-quality display for your work? And do you carry your laptop often, meaning should I consider portability as a key factor?\n",
      "\n"
     ]
    },
    {
     "name": "stdin",
     "output_type": "stream",
     "text": [
      " high quality display, high protability\n"
     ]
    },
    {
     "name": "stdout",
     "output_type": "stream",
     "text": [
      "\n",
      "Thank you for the information. It seems like you need a laptop with high processing speed, high GPU intensity for your AI and ML work, a high-quality display for better visuals, and high portability for easy transportation. \n",
      "\n",
      "Could you kindly let me know your budget for the laptop? This will help me find options that fit within your price range while meeting the specified requirements.\n",
      "\n"
     ]
    },
    {
     "name": "stdin",
     "output_type": "stream",
     "text": [
      " my budget is 100000\n"
     ]
    },
    {
     "name": "stdout",
     "output_type": "stream",
     "text": [
      "\n",
      "Thank you for providing all the information. Kindly wait, while I fetch the products\n",
      "\n",
      "User requirement: {'gpu intensity': 'high', 'display quality': 'high', 'portability': 'high', 'multitasking': 'high', 'processing speed': 'high', 'budget': 100000}\n",
      "\n",
      "Based on your requirements, here are the top 3 laptops that I would recommend:\n",
      "\n",
      "1. **Apple MacBook Air**: This laptop is powered by the Apple M1 chip clocked at 3.2 GHz, providing powerful and efficient processing capabilities. It has 16GB of RAM and an SSD for fast and smooth multitasking. The laptop features a 13.3\" Retina display with a resolution of 2560x1600, delivering sharp and vibrant visuals. It is equipped with the Apple M1 integrated graphics, ensuring smooth graphics performance. Weighing just 1.29 kg, it is highly portable and suitable for on-the-go usage. The laptop features Touch ID, allowing secure and convenient login options. With a three-year warranty and an impressive battery life of up to 14 hours, the Apple MacBook Air ensures reliability and endurance. It is priced at 100,000 INR.\n",
      "\n",
      "2. **Lenovo ThinkPad**: This laptop is equipped with a Ryzen 7 processor from AMD clocked at 3.0 GHz, providing strong processing capabilities for demanding tasks. It has 16GB of RAM and an SSD, offering smooth multitasking and fast storage access. The laptop features a 14\" IPS display with a resolution of 2560x1440, delivering sharp visuals and accurate colors. It also comes with an NVIDIA GTX graphics card for enhanced graphical performance. Weighing just 1.6 kg, it is lightweight and highly portable. The laptop features a backlit keyboard for comfortable typing in low-light environments. With a three-year warranty and a battery life of up to 6 hours, the Lenovo ThinkPad offers reliability and durability. It is priced at 60,000 INR.\n",
      "\n",
      "3. **MSI GL65**: This laptop is powered by an Intel Core i7 processor running at 2.6 GHz, delivering exceptional processing power for smooth gaming and demanding tasks. It has 16GB of RAM and a combination of HDD and SSD storage, offering ample memory and fast data access. The laptop features a 15.6\" IPS display with a resolution of 1920x1080, ensuring vivid colors and wide viewing angles for an immersive gaming experience. Equipped with an NVIDIA GTX graphics card, it provides excellent visual performance and smooth gameplay. Weighing just 2.3 kg, it is a portable option for gamers on the move. The laptop also boasts an RGB keyboard, allowing customizable lighting effects for\n",
      "\n"
     ]
    },
    {
     "name": "stdin",
     "output_type": "stream",
     "text": [
      " exit\n"
     ]
    },
    {
     "name": "stdout",
     "output_type": "stream",
     "text": [
      "\n",
      "Sure, if you have any more questions in the future, feel free to ask. Have a great day!\n",
      "\n"
     ]
    }
   ],
   "source": [
    "dialogue_mgmt_system()"
   ]
  },
  {
   "cell_type": "code",
   "execution_count": null,
   "metadata": {
    "colab": {
     "base_uri": "https://localhost:8080/",
     "height": 1000
    },
    "id": "1ayIzUZvpURv",
    "outputId": "be3ccdab-ca5d-4023-e9b7-e8b53b997302"
   },
   "outputs": [
    {
     "name": "stdout",
     "output_type": "stream",
     "text": [
      "Assistant: \"Hello! I'm here to help you find the perfect laptop that suits your needs. Could you please share your requirements?\"\n",
      "\n",
      "hi i am a coder who builds ml & dl models and i need a lightweight laptop capable of high multitasking with great display under a budget of 1 lakh\n",
      "\n",
      "Great! As a coder who builds machine learning and deep learning models, you would require a laptop with high processing speed and multitasking capabilities. A high-quality display would also enhance your coding experience. \n",
      "\n",
      "Since you mentioned that you need a lightweight laptop, I understand that portability is important to you. However, I would like to know more about your GPU intensity needs. \n",
      "\n",
      "As you work with ML and DL models, you might need to perform tasks like data visualization, model training, etc., which can be GPU-intensive. Would you say your GPU usage is low, medium, or high? \n",
      "\n",
      "Let me know if my understanding is correct until now.\n",
      "\n",
      "yes\n",
      "\n",
      "Thank you for providing all the information. Kindly wait, while I fetch the products\n",
      "\n",
      "\n",
      "Based on your requirements, here are the top 3 laptops that I would recommend:\n",
      "\n",
      "1. HP EliteBook: This laptop is equipped with an Intel Core i7 processor clocked at 2.8 GHz, 16GB of RAM, and an SSD, providing good speed and power for demanding tasks. It sports a 14\" LED display with a resolution of 1920x1080, delivering sharp visuals and vibrant colors. It also comes with an Intel UHD GPU for basic graphical performance. Weighing just 1.5 kg, it offers decent portability. The laptop is equipped with a fingerprint sensor for secure and convenient login. With a three-year warranty and a battery life of up to 8 hours, it ensures long-lasting reliability. Priced at 90,000 INR.\n",
      "\n",
      "2. Lenovo ThinkPad: This laptop is equipped with a Ryzen 7 processor from AMD clocked at 3.0 GHz, providing good processing capabilities for demanding tasks. With 16GB of RAM and an SSD, it offers good multitasking performance along with ample storage capacity. The laptop features a 14\" IPS display with a resolution of 2560x1440, delivering sharp visuals and accurate colors. It also comes with an NVIDIA GTX graphics card for enhanced graphical performance. Weighing just 1.6 kg, it offers decent portability. The laptop features a backlit keyboard for comfortable typing in low-light environments. With a three-year warranty and a battery life of up to 6 hours, the Lenovo ThinkPad offers reliability and durability. Priced at 60,000 INR.\n",
      "\n",
      "3. MSI GL65: This laptop is powered by an Intel Core i7 processor running at 2.6 GHz, it delivers good processing power for smooth gaming and demanding tasks. With 16GB of RAM and a combination of HDD and SSD storage, it offers ample memory and fast data access. The laptop features a 15.6\" IPS display with a resolution of 1920x1080, ensuring vivid colors and wide viewing angles for an immersive gaming experience. Equipped with an NVIDIA GTX graphics card, it provides excellent visual performance and smooth gameplay. Weighing just 2.3 kg, it offers decent portability. The laptop also boasts an RGB keyboard, allowing customizable lighting effects for a personalized gaming setup. With a two-year warranty and a battery life of up to 4 hours, the MSI GL65 offers\n",
      "\n",
      "which has the best display?\n",
      "\n",
      "The Lenovo ThinkPad has the best display among the three. It features a 14\" IPS display with a resolution of 2560x1440, delivering sharp visuals and accurate colors. This high resolution will provide a better viewing experience, especially for tasks that require detailed visuals.\n",
      "\n",
      "i want a laptop with low gpu\n",
      "\n",
      "Thank you for providing all the information. Kindly wait, while I fetch the products\n",
      "\n",
      "\n",
      "Based on your updated requirements, here are the top 3 laptops that I would recommend:\n",
      "\n",
      "1. ASUS ZenBook 13: This laptop is equipped with an Intel Core i7 processor running at 2.8 GHz, 16GB of RAM, and an SSD, providing strong processing power for multitasking and productivity. It features a 13.3\" NanoEdge display with a resolution of 1920x1080, delivering crisp visuals and immersive viewing. It comes with Intel Iris Xe integrated graphics for decent graphics performance. Weighing just 1.11 kg, it is incredibly lightweight and highly portable. The laptop features military-grade durability, ensuring durability and reliability. With a two-year warranty and an impressive battery life of up to 11 hours, the ASUS ZenBook 13 offers long-lasting performance and endurance. Priced at 95,000 INR.\n",
      "\n",
      "2. HP EliteBook: This laptop features an Intel Core i7 processor clocked at 2.8 GHz, 16GB of RAM, and an SSD, providing good speed and power for demanding tasks. It sports a 14\" LED display with a resolution of 1920x1080, delivering sharp visuals and vibrant colors. It also comes with an Intel UHD GPU for basic graphical performance. Weighing just 1.5 kg, it offers decent portability. The laptop is equipped with a fingerprint sensor for secure and convenient login. With a three-year warranty and a battery life of up to 8 hours, it ensures long-lasting reliability. Priced at 90,000 INR.\n",
      "\n",
      "3. Lenovo ThinkPad: This laptop is equipped with a Ryzen 7 processor from AMD clocked at 3.0 GHz, providing good processing capabilities for demanding tasks. With 16GB of RAM and an SSD, it offers good multitasking performance along with ample storage capacity. The laptop features a 14\" IPS display with a resolution of 2560x1440, delivering sharp visuals and accurate colors. It also comes with an NVIDIA GTX graphics card for enhanced graphical performance. Weighing just 1.6 kg, it offers decent portability. The laptop features a backlit keyboard for comfortable typing in low-light environments. With a three-year warranty and a battery life of up to 6 hours, the Lenovo ThinkPad offers reliability and durability. Priced at 60,000 INR.\n",
      "\n",
      "how is this list compared to the previous\n",
      "\n",
      "The list has changed based on your updated requirement of a laptop with low GPU intensity. Here's how the two lists compare:\n",
      "\n",
      "1. ASUS ZenBook 13: This laptop is a new addition to the list. It is equipped with an Intel Core i7 processor, 16GB of RAM, and an SSD. It features a 13.3\" NanoEdge display and Intel Iris Xe integrated graphics. It is incredibly lightweight at just 1.11 kg and offers military-grade durability. It is priced at 95,000 INR.\n",
      "\n",
      "2. HP EliteBook: This laptop was also recommended in the previous list. It features an Intel Core i7 processor, 16GB of RAM, and an SSD. It sports a 14\" LED display and an Intel UHD GPU. It is lightweight at 1.5 kg and offers a fingerprint sensor for secure login. It is priced at 90,000 INR.\n",
      "\n",
      "3. Lenovo ThinkPad: This laptop was also recommended in the previous list. It is equipped with a Ryzen 7 processor, 16GB of RAM, and an SSD. It features a 14\" IPS display and an NVIDIA GTX graphics card. It is lightweight at 1.6 kg and offers a backlit keyboard. It is priced at 60,000 INR.\n",
      "\n",
      "The MSI GL65, which was recommended in the previous list, is not included in this list due to its high GPU intensity. The ASUS ZenBook 13 has been added to the list as it meets your requirement of low GPU intensity.\n",
      "\n"
     ]
    },
    {
     "ename": "KeyboardInterrupt",
     "evalue": "ignored",
     "output_type": "error",
     "traceback": [
      "\u001b[0;31m---------------------------------------------------------------------------\u001b[0m",
      "\u001b[0;31mKeyboardInterrupt\u001b[0m                         Traceback (most recent call last)",
      "\u001b[0;32m<ipython-input-19-d29212875b27>\u001b[0m in \u001b[0;36m<cell line: 1>\u001b[0;34m()\u001b[0m\n\u001b[0;32m----> 1\u001b[0;31m \u001b[0mdialogue_mgmt_system\u001b[0m\u001b[0;34m(\u001b[0m\u001b[0;34m)\u001b[0m\u001b[0;34m\u001b[0m\u001b[0;34m\u001b[0m\u001b[0m\n\u001b[0m",
      "\u001b[0;32m<ipython-input-18-f127565c88aa>\u001b[0m in \u001b[0;36mdialogue_mgmt_system\u001b[0;34m()\u001b[0m\n\u001b[1;32m      5\u001b[0m     \u001b[0muser_input\u001b[0m \u001b[0;34m=\u001b[0m \u001b[0;34m\"\"\u001b[0m\u001b[0;34m\u001b[0m\u001b[0;34m\u001b[0m\u001b[0m\n\u001b[1;32m      6\u001b[0m     \u001b[0;32mwhile\u001b[0m\u001b[0;34m(\u001b[0m\u001b[0muser_input\u001b[0m \u001b[0;34m!=\u001b[0m \u001b[0;34m\"exit\"\u001b[0m\u001b[0;34m)\u001b[0m\u001b[0;34m:\u001b[0m\u001b[0;34m\u001b[0m\u001b[0;34m\u001b[0m\u001b[0m\n\u001b[0;32m----> 7\u001b[0;31m       \u001b[0muser_input\u001b[0m \u001b[0;34m=\u001b[0m \u001b[0minput\u001b[0m\u001b[0;34m(\u001b[0m\u001b[0;34m\"\"\u001b[0m\u001b[0;34m)\u001b[0m\u001b[0;34m\u001b[0m\u001b[0;34m\u001b[0m\u001b[0m\n\u001b[0m\u001b[1;32m      8\u001b[0m       \u001b[0mconversation\u001b[0m\u001b[0;34m.\u001b[0m\u001b[0mappend\u001b[0m\u001b[0;34m(\u001b[0m\u001b[0;34m{\u001b[0m\u001b[0;34m\"role\"\u001b[0m\u001b[0;34m:\u001b[0m \u001b[0;34m\"user\"\u001b[0m\u001b[0;34m,\u001b[0m \u001b[0;34m\"content\"\u001b[0m\u001b[0;34m:\u001b[0m \u001b[0muser_input\u001b[0m\u001b[0;34m}\u001b[0m\u001b[0;34m)\u001b[0m\u001b[0;34m\u001b[0m\u001b[0;34m\u001b[0m\u001b[0m\n\u001b[1;32m      9\u001b[0m       \u001b[0;31m# Step 1: Pass the user input to GPT\u001b[0m\u001b[0;34m\u001b[0m\u001b[0;34m\u001b[0m\u001b[0m\n",
      "\u001b[0;32m/usr/local/lib/python3.10/dist-packages/ipykernel/kernelbase.py\u001b[0m in \u001b[0;36mraw_input\u001b[0;34m(self, prompt)\u001b[0m\n\u001b[1;32m    849\u001b[0m                 \u001b[0;34m\"raw_input was called, but this frontend does not support input requests.\"\u001b[0m\u001b[0;34m\u001b[0m\u001b[0;34m\u001b[0m\u001b[0m\n\u001b[1;32m    850\u001b[0m             )\n\u001b[0;32m--> 851\u001b[0;31m         return self._input_request(str(prompt),\n\u001b[0m\u001b[1;32m    852\u001b[0m             \u001b[0mself\u001b[0m\u001b[0;34m.\u001b[0m\u001b[0m_parent_ident\u001b[0m\u001b[0;34m,\u001b[0m\u001b[0;34m\u001b[0m\u001b[0;34m\u001b[0m\u001b[0m\n\u001b[1;32m    853\u001b[0m             \u001b[0mself\u001b[0m\u001b[0;34m.\u001b[0m\u001b[0m_parent_header\u001b[0m\u001b[0;34m,\u001b[0m\u001b[0;34m\u001b[0m\u001b[0;34m\u001b[0m\u001b[0m\n",
      "\u001b[0;32m/usr/local/lib/python3.10/dist-packages/ipykernel/kernelbase.py\u001b[0m in \u001b[0;36m_input_request\u001b[0;34m(self, prompt, ident, parent, password)\u001b[0m\n\u001b[1;32m    893\u001b[0m             \u001b[0;32mexcept\u001b[0m \u001b[0mKeyboardInterrupt\u001b[0m\u001b[0;34m:\u001b[0m\u001b[0;34m\u001b[0m\u001b[0;34m\u001b[0m\u001b[0m\n\u001b[1;32m    894\u001b[0m                 \u001b[0;31m# re-raise KeyboardInterrupt, to truncate traceback\u001b[0m\u001b[0;34m\u001b[0m\u001b[0;34m\u001b[0m\u001b[0m\n\u001b[0;32m--> 895\u001b[0;31m                 \u001b[0;32mraise\u001b[0m \u001b[0mKeyboardInterrupt\u001b[0m\u001b[0;34m(\u001b[0m\u001b[0;34m\"Interrupted by user\"\u001b[0m\u001b[0;34m)\u001b[0m \u001b[0;32mfrom\u001b[0m \u001b[0;32mNone\u001b[0m\u001b[0;34m\u001b[0m\u001b[0;34m\u001b[0m\u001b[0m\n\u001b[0m\u001b[1;32m    896\u001b[0m             \u001b[0;32mexcept\u001b[0m \u001b[0mException\u001b[0m \u001b[0;32mas\u001b[0m \u001b[0me\u001b[0m\u001b[0;34m:\u001b[0m\u001b[0;34m\u001b[0m\u001b[0;34m\u001b[0m\u001b[0m\n\u001b[1;32m    897\u001b[0m                 \u001b[0mself\u001b[0m\u001b[0;34m.\u001b[0m\u001b[0mlog\u001b[0m\u001b[0;34m.\u001b[0m\u001b[0mwarning\u001b[0m\u001b[0;34m(\u001b[0m\u001b[0;34m\"Invalid Message:\"\u001b[0m\u001b[0;34m,\u001b[0m \u001b[0mexc_info\u001b[0m\u001b[0;34m=\u001b[0m\u001b[0;32mTrue\u001b[0m\u001b[0;34m)\u001b[0m\u001b[0;34m\u001b[0m\u001b[0;34m\u001b[0m\u001b[0m\n",
      "\u001b[0;31mKeyboardInterrupt\u001b[0m: Interrupted by user"
     ]
    }
   ],
   "source": [
    "dialogue_mgmt_system()"
   ]
  }
 ],
 "metadata": {
  "colab": {
   "provenance": []
  },
  "kernelspec": {
   "display_name": "Python [conda env:base] *",
   "language": "python",
   "name": "conda-base-py"
  },
  "language_info": {
   "codemirror_mode": {
    "name": "ipython",
    "version": 3
   },
   "file_extension": ".py",
   "mimetype": "text/x-python",
   "name": "python",
   "nbconvert_exporter": "python",
   "pygments_lexer": "ipython3",
   "version": "3.12.4"
  }
 },
 "nbformat": 4,
 "nbformat_minor": 4
}
